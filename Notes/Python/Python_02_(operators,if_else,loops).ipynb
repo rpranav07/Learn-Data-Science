{
  "nbformat": 4,
  "nbformat_minor": 0,
  "metadata": {
    "colab": {
      "provenance": [],
      "include_colab_link": true
    },
    "kernelspec": {
      "name": "python3",
      "display_name": "Python 3"
    },
    "language_info": {
      "name": "python"
    }
  },
  "cells": [
    {
      "cell_type": "markdown",
      "metadata": {
        "id": "view-in-github",
        "colab_type": "text"
      },
      "source": [
        "<a href=\"https://colab.research.google.com/github/rpranav07/Learning_AI/blob/main/Notes/Python/Python_02_(operators%2Cif_else%2Cloops).ipynb\" target=\"_parent\"><img src=\"https://colab.research.google.com/assets/colab-badge.svg\" alt=\"Open In Colab\"/></a>"
      ]
    },
    {
      "cell_type": "markdown",
      "source": [
        "# Operators in Python\n",
        "\n",
        "- Arithmetic Operators\n",
        "- Relational Operators\n",
        "- Logical Operators\n",
        "- Bitwise Operators\n",
        "- Assignment Operators\n",
        "- Membership Operators"
      ],
      "metadata": {
        "id": "y1HMD4oI7FL7"
      }
    },
    {
      "cell_type": "code",
      "source": [
        "# Arithmetric Operators\n",
        "print(5+6)\n",
        "\n",
        "print(5-6)\n",
        "\n",
        "print(5*6)\n",
        "\n",
        "print(5/2)\n",
        "\n",
        "print(5//2)\n",
        "\n",
        "print(5%2)\n",
        "\n",
        "print(5**2)"
      ],
      "metadata": {
        "id": "a7cegk-f7U4-",
        "colab": {
          "base_uri": "https://localhost:8080/"
        },
        "outputId": "77490d0d-316e-4611-9cd7-8c99e64fca2a"
      },
      "execution_count": null,
      "outputs": [
        {
          "output_type": "stream",
          "name": "stdout",
          "text": [
            "11\n",
            "-1\n",
            "30\n",
            "2.5\n",
            "2\n",
            "1\n",
            "25\n"
          ]
        }
      ]
    },
    {
      "cell_type": "code",
      "source": [
        "# Relational Operators\n",
        "print(4>5)\n",
        "\n",
        "print(4<5)\n",
        "\n",
        "print(4>=4)\n",
        "\n",
        "print(4<=4)\n",
        "\n",
        "print(4==4)\n",
        "\n",
        "print(4!=4)"
      ],
      "metadata": {
        "id": "TMIQKhFd7Y5A",
        "colab": {
          "base_uri": "https://localhost:8080/"
        },
        "outputId": "573867e9-962a-45a6-a313-dcaa8b9a6406"
      },
      "execution_count": null,
      "outputs": [
        {
          "output_type": "stream",
          "name": "stdout",
          "text": [
            "False\n",
            "True\n",
            "True\n",
            "True\n",
            "True\n",
            "False\n"
          ]
        }
      ]
    },
    {
      "cell_type": "code",
      "source": [
        "# Logical Operators\n",
        "print(1 and 0)\n",
        "\n",
        "print(1 or 0)\n",
        "\n",
        "print(not 0)\n",
        "\n",
        "print(not 1)"
      ],
      "metadata": {
        "id": "vyxdjDbc7avq",
        "colab": {
          "base_uri": "https://localhost:8080/"
        },
        "outputId": "6270f589-3fab-41ec-942a-5d91b0524369"
      },
      "execution_count": null,
      "outputs": [
        {
          "output_type": "stream",
          "name": "stdout",
          "text": [
            "0\n",
            "1\n",
            "True\n",
            "False\n"
          ]
        }
      ]
    },
    {
      "cell_type": "code",
      "source": [
        "# Bitwise Operators\n",
        "\n",
        "# bitwise and   #Performs a bitwise AND operation between the binary representations of two numbers\n",
        "print(2 & 3)\n",
        "\n",
        "# bitwise or   #Performs a bitwise OR operation between the binary representations of two numbers\n",
        "print(2 | 3)\n",
        "\n",
        "# bitwise xor (XOR :- Both same then 0 both different then 1)\n",
        "print(2 ^ 3)\n",
        "\n",
        "#bitwise not (it inverts all the bits of its operand. In other words, every 0 bit becomes 1, and every 1 bit becomes 0.)\n",
        "print(~3)\n",
        "\n",
        "#bitwise right operator  #\n",
        "print(8 >> 2)\n",
        "\n",
        "#bitwise left operator\n",
        "print(5 << 2)\n",
        "print(2 & 3)\n",
        "\n",
        "# bitwise or\n",
        "print(2 | 3)\n",
        "\n",
        "# bitwise xor (XOR :- Both same then 0 both different then 1)\n",
        "print(2 ^ 3)\n",
        "\n",
        "#bitwise not (it inverts all the bits of its operand. In other words, every 0 bit becomes 1, and every 1 bit becomes 0.)\n",
        "# Binary representation of 3: 00000011\n",
        "# Inverting the bits: 11111100 (this is -4 in two's complement representation).\n",
        "print(~3)\n",
        "\n",
        "#bitwise right operator   #hifts the bits of the number to the right by the specified number of places. The leftmost bits are filled with the sign bit (0 for positive, 1 for negative).\n",
        "# Example: 8 >> 2\n",
        "# Binary representation of 8: 00001000\n",
        "# Shifting two places to the right: 00000010 (binary) = 2 (decimal)\n",
        "print(8 >> 2)\n",
        "\n",
        "#bitwise left operator   #Shifts the bits of the number to the left by the specified number of places. The rightmost bits are filled with zeros.\n",
        "# Example: 5 << 2\n",
        "# Binary representation of 5: 00000101\n",
        "# Shifting two places to the left: 00010100 (binary) = 20 (decimal)\n",
        "print(5 << 2)"
      ],
      "metadata": {
        "id": "H4KzpSke7d9l",
        "colab": {
          "base_uri": "https://localhost:8080/"
        },
        "outputId": "b39f610b-2cfc-4847-e9d9-831dd421c4fd"
      },
      "execution_count": null,
      "outputs": [
        {
          "output_type": "stream",
          "name": "stdout",
          "text": [
            "2\n",
            "3\n",
            "1\n",
            "-4\n",
            "2\n",
            "20\n"
          ]
        }
      ]
    },
    {
      "cell_type": "code",
      "source": [
        "# Assignment Operators\n",
        "a = 2\n",
        "\n",
        "# a = a % 2\n",
        "a %= 2\n",
        "\n",
        "# a++ ++a\n",
        "\n",
        "print(a)"
      ],
      "metadata": {
        "id": "8EEm8eHO7gD_",
        "colab": {
          "base_uri": "https://localhost:8080/"
        },
        "outputId": "3fbd2fcd-c7ff-44fa-efa0-024ef96904a6"
      },
      "execution_count": null,
      "outputs": [
        {
          "output_type": "stream",
          "name": "stdout",
          "text": [
            "0\n"
          ]
        }
      ]
    },
    {
      "cell_type": "code",
      "source": [
        "# Membership Operators\n",
        "\n",
        "# in/not in\n",
        "\n",
        "print('D' not in 'Delhi')\n",
        "\n",
        "print(1 in [2,3,4,5,6])"
      ],
      "metadata": {
        "id": "LzrIz7I87h-W",
        "colab": {
          "base_uri": "https://localhost:8080/"
        },
        "outputId": "108659b9-d975-47e3-b53f-56ea46f02121"
      },
      "execution_count": null,
      "outputs": [
        {
          "output_type": "stream",
          "name": "stdout",
          "text": [
            "False\n",
            "False\n"
          ]
        }
      ]
    },
    {
      "cell_type": "code",
      "source": [
        "# Program - Find the sum of a 3 digit number entered by the user\n",
        "\n",
        "number = int(input('Enter a 3 digit number  '))\n",
        "\n",
        "# 345%1 -> 5\n",
        "a = number%10\n",
        "\n",
        "number = number//10\n",
        "\n",
        "# 34%10 -> 4\n",
        "b = number % 10\n",
        "\n",
        "number = number//10\n",
        "# 3 % 10 -> 3\n",
        "c = number % 10\n",
        "\n",
        "print(a + b + c)"
      ],
      "metadata": {
        "id": "C-LoVrYGDEuB",
        "colab": {
          "base_uri": "https://localhost:8080/"
        },
        "outputId": "f9131c27-71d1-46b3-8d27-f0cb46a2952b"
      },
      "execution_count": 1,
      "outputs": [
        {
          "output_type": "stream",
          "name": "stdout",
          "text": [
            "Enter a 3 digit number  759\n",
            "21\n"
          ]
        }
      ]
    },
    {
      "cell_type": "markdown",
      "source": [
        "# If-else in Python"
      ],
      "metadata": {
        "id": "Iq7CzVFs7mWT"
      }
    },
    {
      "cell_type": "code",
      "source": [
        "# login program and indentation\n",
        "# email -> nitish.campusx@gmail.com\n",
        "# password -> 1234\n",
        "\n",
        "email = input('enter email ')\n",
        "password = input('enter password ')\n",
        "\n",
        "if email == 'nitish.campusx@gmail.com' and password == '1234':\n",
        "  print('Welcome')\n",
        "elif email == 'nitish.campusx@gmail.com' and password != '1234':\n",
        "  # tell the user\n",
        "  print('Incorrect password')\n",
        "  password = input('Incorrect Password ,enter password again ')\n",
        "  if password == '1234':\n",
        "    print('Welcome,finally!')\n",
        "  else:\n",
        "    print('beta tumse na ho paayega!')\n",
        "else:\n",
        "  print('Not correct')"
      ],
      "metadata": {
        "id": "dGz-83pN7oxe",
        "colab": {
          "base_uri": "https://localhost:8080/"
        },
        "outputId": "6073387d-066f-458b-d1b4-8698a804da67"
      },
      "execution_count": null,
      "outputs": [
        {
          "output_type": "stream",
          "name": "stdout",
          "text": [
            "enter email nitish.campusx@gmail.com\n",
            "enter password 1245\n",
            "Incorrect password\n",
            "Incorrect Password ,enter password again 1234\n",
            "Welcome,finally!\n"
          ]
        }
      ]
    },
    {
      "cell_type": "code",
      "source": [
        "# if-else examples\n",
        "# 1. Find the min of 3 given numbers\n",
        "# 2. Menu Driven Program"
      ],
      "metadata": {
        "id": "qo_1tY2ABlAX"
      },
      "execution_count": null,
      "outputs": []
    },
    {
      "cell_type": "code",
      "source": [
        "# min of 3 number\n",
        "\n",
        "a = int(input('first num '))\n",
        "b = int(input('second num '))\n",
        "c = int(input('third num '))\n",
        "\n",
        "if a<b and a<c:\n",
        "  print('smallest is',a)\n",
        "elif b<c:\n",
        "  print('smallest is',b)\n",
        "else:\n",
        "  print('smallest is',c)"
      ],
      "metadata": {
        "colab": {
          "base_uri": "https://localhost:8080/"
        },
        "id": "gQpTJbMH3W6_",
        "outputId": "9d372104-4541-41ff-9018-0e25c2b87727"
      },
      "execution_count": null,
      "outputs": [
        {
          "output_type": "stream",
          "name": "stdout",
          "text": [
            "first num 12\n",
            "second num 54\n",
            "third num 56\n",
            "smallest is 12\n"
          ]
        }
      ]
    },
    {
      "cell_type": "markdown",
      "source": [
        "# Modules in Python\n",
        "\n",
        "- math\n",
        "- keywords\n",
        "- random\n",
        "- datetime"
      ],
      "metadata": {
        "id": "532_6mva8A6C"
      }
    },
    {
      "cell_type": "code",
      "source": [
        "#math\n",
        "import math\n",
        "print(math.sqrt(16))\n",
        "print(math.floor(2.9))\n",
        "print(math.ceil(2.1))\n",
        "print(math.pi)"
      ],
      "metadata": {
        "colab": {
          "base_uri": "https://localhost:8080/"
        },
        "id": "mHzuysJJxDp0",
        "outputId": "7981a407-66e4-49bf-f2a0-2c069e4a1cdc"
      },
      "execution_count": null,
      "outputs": [
        {
          "output_type": "stream",
          "name": "stdout",
          "text": [
            "4.0\n",
            "2\n",
            "3\n",
            "3.141592653589793\n"
          ]
        }
      ]
    },
    {
      "cell_type": "code",
      "source": [
        "# keyword\n",
        "import keyword\n",
        "print(keyword.kwlist)"
      ],
      "metadata": {
        "id": "FLgAX9pz8HBT",
        "colab": {
          "base_uri": "https://localhost:8080/"
        },
        "outputId": "f79c9461-4ae8-477e-de36-fda3f1bd3cbb"
      },
      "execution_count": 5,
      "outputs": [
        {
          "output_type": "stream",
          "name": "stdout",
          "text": [
            "['False', 'None', 'True', 'and', 'as', 'assert', 'async', 'await', 'break', 'class', 'continue', 'def', 'del', 'elif', 'else', 'except', 'finally', 'for', 'from', 'global', 'if', 'import', 'in', 'is', 'lambda', 'nonlocal', 'not', 'or', 'pass', 'raise', 'return', 'try', 'while', 'with', 'yield']\n"
          ]
        }
      ]
    },
    {
      "cell_type": "code",
      "source": [
        "# random\n",
        "import random\n",
        "print(random.randint(1,100))\n",
        "random.random()\n"
      ],
      "metadata": {
        "id": "R0dWpe-w8HSZ",
        "colab": {
          "base_uri": "https://localhost:8080/"
        },
        "outputId": "bc66484e-209a-4e09-9fe9-afe0dbc51370"
      },
      "execution_count": null,
      "outputs": [
        {
          "output_type": "stream",
          "name": "stdout",
          "text": [
            "20\n"
          ]
        },
        {
          "output_type": "execute_result",
          "data": {
            "text/plain": [
              "0.7398935929853222"
            ]
          },
          "metadata": {},
          "execution_count": 18
        }
      ]
    },
    {
      "cell_type": "code",
      "source": [
        "# datetime\n",
        "import datetime\n",
        "print(datetime.datetime.now())\n",
        "print(datetime.datetime.now())"
      ],
      "metadata": {
        "colab": {
          "base_uri": "https://localhost:8080/"
        },
        "id": "XNHWXsM0iFn3",
        "outputId": "2c3ee213-a1b4-4af9-8143-de36fa593128"
      },
      "execution_count": 6,
      "outputs": [
        {
          "output_type": "stream",
          "name": "stdout",
          "text": [
            "2024-11-19 07:53:43.973310\n",
            "2024-11-19 07:53:43.975033\n"
          ]
        }
      ]
    },
    {
      "cell_type": "code",
      "source": [
        "# help('modules')"
      ],
      "metadata": {
        "id": "ePMxrlzX8CsQ"
      },
      "execution_count": 12,
      "outputs": []
    },
    {
      "cell_type": "markdown",
      "source": [
        "# Loops in Python\n",
        "\n",
        "- Need for loops\n",
        "- While Loop\n",
        "- For Loop"
      ],
      "metadata": {
        "id": "2Ow6_gWG7ukc"
      }
    },
    {
      "cell_type": "code",
      "source": [
        "# While loop example -> program to print the table\n",
        "# Program -> Sum of all digits of a given number\n",
        "# Program -> keep accepting numbers from users till he/she enters a 0 and then find the avg"
      ],
      "metadata": {
        "id": "Ig7NIb7L7txg"
      },
      "execution_count": null,
      "outputs": []
    },
    {
      "cell_type": "code",
      "source": [
        "#program to print the table\n",
        "number = int(input('enter the number '))\n",
        "\n",
        "i = 1\n",
        "\n",
        "while i<11:\n",
        "  print(number,'*',i,'=',number * i)\n",
        "  i += 1"
      ],
      "metadata": {
        "colab": {
          "base_uri": "https://localhost:8080/"
        },
        "id": "brWSxgiu9rrQ",
        "outputId": "2b089c7b-3067-437d-f7f8-45f11cb9b26a"
      },
      "execution_count": null,
      "outputs": [
        {
          "output_type": "stream",
          "name": "stdout",
          "text": [
            "enter the number22\n",
            "22 * 1 = 22\n",
            "22 * 2 = 44\n",
            "22 * 3 = 66\n",
            "22 * 4 = 88\n",
            "22 * 5 = 110\n",
            "22 * 6 = 132\n",
            "22 * 7 = 154\n",
            "22 * 8 = 176\n",
            "22 * 9 = 198\n",
            "22 * 10 = 220\n"
          ]
        }
      ]
    },
    {
      "cell_type": "code",
      "source": [
        "#Program -> Sum of all digits of a given number\n",
        "n=int(input())\n",
        "sum=0\n",
        "while n>0:\n",
        "  sum=sum+(n%10)\n",
        "  n=n//10\n",
        "print(sum)\n"
      ],
      "metadata": {
        "id": "aCxcPD-B3Lbr"
      },
      "execution_count": null,
      "outputs": []
    },
    {
      "cell_type": "code",
      "source": [
        "# Program -> keep accepting numbers from users till he/she enters a 0 and then find the avg\n",
        "n=int(input())\n",
        "\n",
        "sum=n\n",
        "i=1\n",
        "while n!=0:\n",
        "  n=int(input())\n",
        "  sum=sum+n\n",
        "  i=i+1\n",
        "print(sum/(i-1))"
      ],
      "metadata": {
        "id": "aQkync575DDF",
        "colab": {
          "base_uri": "https://localhost:8080/"
        },
        "outputId": "b08ed8ed-7b0a-4bac-e463-9d8dfd556ba1"
      },
      "execution_count": 30,
      "outputs": [
        {
          "output_type": "stream",
          "name": "stdout",
          "text": [
            "4\n",
            "4\n",
            "4\n",
            "4\n",
            "0\n",
            "4.0\n"
          ]
        }
      ]
    },
    {
      "cell_type": "code",
      "source": [
        "# while loop with else\n",
        "\n",
        "x = 1\n",
        "\n",
        "while x < 3:\n",
        "  print(x)\n",
        "  x += 1\n",
        "\n",
        "else:\n",
        "  print('limit crossed')"
      ],
      "metadata": {
        "id": "Ltsr9n3H73fp",
        "colab": {
          "base_uri": "https://localhost:8080/"
        },
        "outputId": "5578a59b-5bca-45fb-fd1f-56295010cbf7"
      },
      "execution_count": 17,
      "outputs": [
        {
          "output_type": "stream",
          "name": "stdout",
          "text": [
            "1\n",
            "2\n",
            "limit crossed\n"
          ]
        }
      ]
    },
    {
      "cell_type": "code",
      "source": [
        "#Guessing game\n",
        "import random\n",
        "jackpot=random.randint(1,100)\n",
        "guess=int(input(\"Guess the jackpot \"))\n",
        "attempt=1\n",
        "\n",
        "while guess!=jackpot:\n",
        "  if guess>jackpot:\n",
        "    print(\"Guess  lower\")\n",
        "  else:\n",
        "    print(\"Guess Higher\")\n",
        "  guess=int(input(\"Guess the jackpot \"))\n",
        "  attempt+=1\n",
        "\n",
        "print(\"right guess in attempt \",attempt )\n"
      ],
      "metadata": {
        "id": "s8-kTcJSKxJW",
        "colab": {
          "base_uri": "https://localhost:8080/"
        },
        "outputId": "e151c0be-179f-4a9e-ead5-61059de66413"
      },
      "execution_count": 14,
      "outputs": [
        {
          "output_type": "stream",
          "name": "stdout",
          "text": [
            "Guess the jackpot 80\n",
            "Guess  lower\n",
            "Guess the jackpot 60\n",
            "Guess  lower\n",
            "Guess the jackpot 40\n",
            "Guess Higher\n",
            "Guess the jackpot 50\n",
            "Guess Higher\n",
            "Guess the jackpot 55\n",
            "Guess Higher\n",
            "Guess the jackpot 57\n",
            "Guess  lower\n",
            "Guess the jackpot 56\n",
            "right guess in attempt  7\n"
          ]
        }
      ]
    },
    {
      "cell_type": "code",
      "source": [
        "# Guessing game\n",
        "\n",
        "# generate a random integer between 1 and 100\n",
        "import random\n",
        "jackpot = random.randint(1,100)\n",
        "\n",
        "guess = int(input('guess karo'))\n",
        "counter = 1\n",
        "while guess != jackpot:\n",
        "  if guess < jackpot:\n",
        "    print('galat!guess higher')\n",
        "  else:\n",
        "    print('galat!guess lower')\n",
        "\n",
        "  guess = int(input('guess karo'))\n",
        "  counter += 1\n",
        "\n",
        "\n",
        "print('correct guess')\n",
        "print('attempts',counter)\n",
        "\n",
        "\n"
      ],
      "metadata": {
        "id": "29y5r2cr8MRP",
        "colab": {
          "base_uri": "https://localhost:8080/"
        },
        "outputId": "85f8832b-36f3-49bb-b37b-af48be6aa08b"
      },
      "execution_count": null,
      "outputs": [
        {
          "output_type": "stream",
          "name": "stdout",
          "text": [
            "guess karo55\n",
            "galat!guess higher\n",
            "guess karo85\n",
            "galat!guess lower\n",
            "guess karo75\n",
            "galat!guess lower\n",
            "guess karo65\n",
            "galat!guess higher\n",
            "guess karo67\n",
            "correct guess\n",
            "attempts 5\n"
          ]
        }
      ]
    },
    {
      "cell_type": "code",
      "source": [
        "# For loop demo\n",
        "\n",
        "for i in {1,2,3,4,5}:\n",
        "  print(i)\n",
        "for i in 77,78,79,80:\n",
        "  print(i)\n",
        "for i in range(10,0,-2):\n",
        "  print(i*5)"
      ],
      "metadata": {
        "id": "bjjx0fMr8SWh",
        "colab": {
          "base_uri": "https://localhost:8080/"
        },
        "outputId": "0a994fc5-8a54-47fc-9b70-4ede62a0afd6"
      },
      "execution_count": 15,
      "outputs": [
        {
          "output_type": "stream",
          "name": "stdout",
          "text": [
            "1\n",
            "2\n",
            "3\n",
            "4\n",
            "5\n",
            "77\n",
            "78\n",
            "79\n",
            "80\n",
            "50\n",
            "40\n",
            "30\n",
            "20\n",
            "10\n"
          ]
        }
      ]
    },
    {
      "cell_type": "code",
      "source": [
        "# For loop examples\n",
        "for i in \"Delhi\":\n",
        "  print(i)"
      ],
      "metadata": {
        "id": "5ZLWEyFn8g1R",
        "colab": {
          "base_uri": "https://localhost:8080/"
        },
        "outputId": "fb4fa720-71b0-46bf-e144-844a11117b7f"
      },
      "execution_count": 16,
      "outputs": [
        {
          "output_type": "stream",
          "name": "stdout",
          "text": [
            "D\n",
            "e\n",
            "l\n",
            "h\n",
            "i\n"
          ]
        }
      ]
    }
  ]
}